{
 "cells": [
  {
   "cell_type": "code",
   "execution_count": 33,
   "metadata": {},
   "outputs": [
    {
     "name": "stdout",
     "output_type": "stream",
     "text": [
      "[{'id': 249, 'country': 'US', 'country_code': 'US', 'country_population': 327167434, 'province': '', 'last_updated': '2021-04-11T21:21:01.721316Z', 'coordinates': {'latitude': '40.0', 'longitude': '-100.0'}, 'latest': {'confirmed': 31151495, 'deaths': 561783, 'recovered': 0}}]\n"
     ]
    }
   ],
   "source": [
    "\n",
    "import COVID19Py\n",
    "covid19 = COVID19Py.COVID19()\n",
    "covid19 = COVID19Py.COVID19(data_source=\"jhu\")\n",
    "\n",
    "location = covid19.fromCountryCode(\"US\")\n",
    "print(location)\n",
    "\n",
    "\n"
   ]
  },
  {
   "cell_type": "code",
   "execution_count": null,
   "metadata": {},
   "outputs": [],
   "source": []
  },
  {
   "cell_type": "code",
   "execution_count": null,
   "metadata": {},
   "outputs": [],
   "source": []
  },
  {
   "cell_type": "code",
   "execution_count": null,
   "metadata": {},
   "outputs": [],
   "source": []
  }
 ],
 "metadata": {
  "kernelspec": {
   "display_name": "Python 3",
   "language": "python",
   "name": "python3"
  },
  "language_info": {
   "codemirror_mode": {
    "name": "ipython",
    "version": 3
   },
   "file_extension": ".py",
   "mimetype": "text/x-python",
   "name": "python",
   "nbconvert_exporter": "python",
   "pygments_lexer": "ipython3",
   "version": "3.8.5"
  }
 },
 "nbformat": 4,
 "nbformat_minor": 4
}
