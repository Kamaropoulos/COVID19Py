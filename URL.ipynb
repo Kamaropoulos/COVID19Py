{
 "cells": [
  {
   "cell_type": "code",
   "execution_count": 17,
   "metadata": {},
   "outputs": [
    {
     "name": "stdout",
     "output_type": "stream",
     "text": [
      "https://github.com/CSSEGISandData/COVID-19\n"
     ]
    }
   ],
   "source": [
    "\n",
    "\n",
    "class url():\n",
    "    data_list=[]\n",
    "    jhu = \"https://github.com/CSSEGISandData/COVID-19\" \n",
    "    csbs = \"https://www.csbs.org/information-covid-19-coronavirus\" \n",
    "    nyt = \"https://github.com/nytimes/covid-19-data\"\n",
    "    \n",
    "    data_list.append(jhu)\n",
    "    data_list.append(csbs)\n",
    "    data_list.append(nyt)\n",
    "    \n",
    "    print(data_list[0])\n",
    "    "
   ]
  },
  {
   "cell_type": "code",
   "execution_count": null,
   "metadata": {},
   "outputs": [],
   "source": []
  },
  {
   "cell_type": "code",
   "execution_count": null,
   "metadata": {},
   "outputs": [],
   "source": []
  },
  {
   "cell_type": "code",
   "execution_count": null,
   "metadata": {},
   "outputs": [],
   "source": []
  }
 ],
 "metadata": {
  "kernelspec": {
   "display_name": "Python 3",
   "language": "python",
   "name": "python3"
  },
  "language_info": {
   "codemirror_mode": {
    "name": "ipython",
    "version": 3
   },
   "file_extension": ".py",
   "mimetype": "text/x-python",
   "name": "python",
   "nbconvert_exporter": "python",
   "pygments_lexer": "ipython3",
   "version": "3.8.5"
  }
 },
 "nbformat": 4,
 "nbformat_minor": 4
}
