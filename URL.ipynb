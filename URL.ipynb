{
 "cells": [
  {
   "cell_type": "code",
   "execution_count": 7,
   "metadata": {},
   "outputs": [],
   "source": [
    "\n",
    "\n",
    "class url():\n",
    "    data_list=[]\n",
    "    default_url = \"https://covid-tracker-us.herokuapp.com\"\n",
    "    mirrors_source = \"https://raw.github.com/Kamaropoulos/COVID19Py/master/mirrors.json\"\n",
    "    jhu = \"https://github.com/CSSEGISandData/COVID-19\" \n",
    "    csbs = \"https://www.csbs.org/information-covid-19-coronavirus\" \n",
    "    nyt = \"https://github.com/nytimes/covid-19-data\"\n",
    "    \n",
    "    \n",
    "    data_list.append(default_url)\n",
    "    data_list.append(mirrors_source)\n",
    "    data_list.append(jhu)\n",
    "    data_list.append(csbs)\n",
    "    data_list.append(nyt)\n",
    "    \n",
    "    def geturl(str): return str  \n",
    "    def geturlnumber(int):return data_list[int]\n",
    "    def getdefault_url():return data_list[0]\n",
    "    def getmirrors_source():return  data_list[1]\n",
    "\n",
    "    "
   ]
  },
  {
   "cell_type": "code",
   "execution_count": null,
   "metadata": {},
   "outputs": [],
   "source": []
  },
  {
   "cell_type": "code",
   "execution_count": null,
   "metadata": {},
   "outputs": [],
   "source": []
  },
  {
   "cell_type": "code",
   "execution_count": null,
   "metadata": {},
   "outputs": [],
   "source": []
  }
 ],
 "metadata": {
  "kernelspec": {
   "display_name": "Python 3",
   "language": "python",
   "name": "python3"
  },
  "language_info": {
   "codemirror_mode": {
    "name": "ipython",
    "version": 3
   },
   "file_extension": ".py",
   "mimetype": "text/x-python",
   "name": "python",
   "nbconvert_exporter": "python",
   "pygments_lexer": "ipython3",
   "version": "3.8.5"
  }
 },
 "nbformat": 4,
 "nbformat_minor": 4
}
